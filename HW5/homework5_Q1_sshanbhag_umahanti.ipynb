{
  "cells": [
    {
      "cell_type": "code",
      "execution_count": 23,
      "id": "7416e687",
      "metadata": {
        "id": "7416e687"
      },
      "outputs": [],
      "source": [
        "import tensorflow as tf\n",
        "from tensorflow import keras\n",
        "from keras.models import Sequential\n",
        "from keras.layers import Conv2D\n",
        "from keras.layers import MaxPooling2D\n",
        "from keras.layers import Dense\n",
        "from keras.layers import Flatten\n",
        "from keras.optimizers import SGD\n",
        "import numpy as np\n",
        "import matplotlib.pyplot as plt\n",
        "from sklearn.model_selection import train_test_split\n",
        "from tensorflow.keras.layers import MaxPool2D\n",
        "from tensorflow.keras.layers import Dense\n",
        "from tensorflow.keras.layers import Flatten\n",
        "from tensorflow.keras.layers import Dropout\n",
        "from keras.callbacks import ModelCheckpoint"
      ]
    },
    {
      "cell_type": "code",
      "execution_count": 24,
      "id": "9f529f6f",
      "metadata": {
        "id": "9f529f6f"
      },
      "outputs": [],
      "source": [
        "fashion_mnist = tf.keras.datasets.fashion_mnist\n",
        "\n",
        "# Load the fashion-mnist pre-shuffled train data and test data\n",
        "(x_train, y_train), (x_test, y_test) = fashion_mnist.load_data()"
      ]
    },
    {
      "cell_type": "code",
      "execution_count": 25,
      "id": "bbe80e82",
      "metadata": {
        "id": "bbe80e82",
        "outputId": "781ac338-a362-4e18-e7a8-6447875c4283",
        "colab": {
          "base_uri": "https://localhost:8080/"
        }
      },
      "outputs": [
        {
          "output_type": "stream",
          "name": "stdout",
          "text": [
            "x_train.shape: (60000, 28, 28) y_train.shape: (60000,)\n"
          ]
        }
      ],
      "source": [
        "print(\"x_train.shape:\", x_train.shape, \"y_train.shape:\", y_train.shape)"
      ]
    },
    {
      "cell_type": "code",
      "execution_count": 27,
      "id": "5a8a0e72",
      "metadata": {
        "id": "5a8a0e72"
      },
      "outputs": [],
      "source": [
        "#normalization\n",
        "x_train = x_train.astype('float32') / 255\n",
        "x_test = x_test.astype('float32') / 255"
      ]
    },
    {
      "cell_type": "code",
      "execution_count": 29,
      "id": "f53aad19",
      "metadata": {
        "scrolled": true,
        "id": "f53aad19",
        "outputId": "9e80f1ce-b5ee-4ddc-81e1-79822c9f6f7a",
        "colab": {
          "base_uri": "https://localhost:8080/"
        }
      },
      "outputs": [
        {
          "output_type": "stream",
          "name": "stdout",
          "text": [
            "x_train shape: (54000, 28, 28, 1) y_train shape: (54000, 10)\n",
            "54000 train set\n",
            "10000 test set\n",
            "6000 validation set\n"
          ]
        }
      ],
      "source": [
        "#Breaking the training data into training and validation sets \n",
        "(x_train, x_valid) = x_train[6000:], x_train[:6000]\n",
        "(y_train, y_valid) = y_train[6000:], y_train[:6000]\n",
        "\n",
        "# Reshape input data from (28, 28) to (28, 28, 1)\n",
        "l, w = 28, 28\n",
        "\n",
        "x_train = x_train.reshape(x_train.shape[0], l, w, 1)\n",
        "x_test = x_test.reshape(x_test.shape[0], l, w, 1)\n",
        "x_valid = x_valid.reshape(x_valid.shape[0], l, w, 1)\n",
        "\n",
        "# One-hot encode the labels\n",
        "y_train = tf.keras.utils.to_categorical(y_train, 10)\n",
        "y_valid = tf.keras.utils.to_categorical(y_valid, 10)\n",
        "y_test = tf.keras.utils.to_categorical(y_test, 10)\n",
        "\n",
        "#printing the training set shape\n",
        "print(\"x_train shape:\", x_train.shape, \"y_train shape:\", y_train.shape)\n",
        "\n",
        "#printing the number of training, validation, and test datasets\n",
        "\n",
        "print(x_train.shape[0], 'train set')\n",
        "print(x_test.shape[0], 'test set')\n",
        "print(x_valid.shape[0], 'validation set')"
      ]
    },
    {
      "cell_type": "code",
      "execution_count": null,
      "id": "5932a2b5",
      "metadata": {
        "scrolled": true,
        "id": "5932a2b5"
      },
      "outputs": [],
      "source": []
    },
    {
      "cell_type": "code",
      "execution_count": 30,
      "id": "aa5fa0dd",
      "metadata": {
        "scrolled": true,
        "id": "aa5fa0dd",
        "outputId": "c5e73781-2b72-42d2-e878-90a923020f29",
        "colab": {
          "base_uri": "https://localhost:8080/"
        }
      },
      "outputs": [
        {
          "output_type": "stream",
          "name": "stdout",
          "text": [
            "Model: \"sequential_1\"\n",
            "_________________________________________________________________\n",
            " Layer (type)                Output Shape              Param #   \n",
            "=================================================================\n",
            " conv2d_1 (Conv2D)           (None, 26, 26, 64)        640       \n",
            "                                                                 \n",
            " max_pooling2d_1 (MaxPooling  (None, 13, 13, 64)       0         \n",
            " 2D)                                                             \n",
            "                                                                 \n",
            " dropout_1 (Dropout)         (None, 13, 13, 64)        0         \n",
            "                                                                 \n",
            " flatten_1 (Flatten)         (None, 10816)             0         \n",
            "                                                                 \n",
            " dense_2 (Dense)             (None, 1024)              11076608  \n",
            "                                                                 \n",
            " dense_3 (Dense)             (None, 10)                10250     \n",
            "                                                                 \n",
            "=================================================================\n",
            "Total params: 11,087,498\n",
            "Trainable params: 11,087,498\n",
            "Non-trainable params: 0\n",
            "_________________________________________________________________\n"
          ]
        }
      ],
      "source": [
        "model = tf.keras.Sequential()\n",
        "\n",
        "model.add(tf.keras.layers.Conv2D(filters=64, kernel_size=3, padding='valid', strides=1, activation='relu', input_shape=(28,28,1)))\n",
        "model.add(tf.keras.layers.MaxPooling2D(pool_size=2, strides=2, padding='valid'))\n",
        "\n",
        "model.add(tf.keras.layers.Dropout(0.3))\n",
        "model.add(tf.keras.layers.Flatten())\n",
        "model.add(tf.keras.layers.Dense(1024, activation='relu'))\n",
        "model.add(tf.keras.layers.Dense(10, activation='softmax'))\n",
        "\n",
        "model.summary()"
      ]
    },
    {
      "cell_type": "code",
      "execution_count": 31,
      "id": "9caa894c",
      "metadata": {
        "id": "9caa894c"
      },
      "outputs": [],
      "source": [
        "model.compile(optimizer='adam', loss='categorical_crossentropy', metrics=['accuracy'])\n"
      ]
    },
    {
      "cell_type": "code",
      "execution_count": 32,
      "id": "5c572528",
      "metadata": {
        "id": "5c572528"
      },
      "outputs": [],
      "source": [
        "checkpointer = ModelCheckpoint(filepath='model.weights.best.hdf5', verbose = 1, save_best_only=True)"
      ]
    },
    {
      "cell_type": "code",
      "execution_count": 33,
      "id": "723a3a4b",
      "metadata": {
        "scrolled": true,
        "id": "723a3a4b",
        "outputId": "ec544a4e-5f39-4673-d914-6acd02be75c6",
        "colab": {
          "base_uri": "https://localhost:8080/"
        }
      },
      "outputs": [
        {
          "output_type": "stream",
          "name": "stdout",
          "text": [
            "Epoch 1/10\n",
            "\n",
            "Epoch 1: val_loss improved from inf to 0.28550, saving model to model.weights.best.hdf5\n",
            "844/844 - 255s - loss: 0.3828 - accuracy: 0.8631 - val_loss: 0.2855 - val_accuracy: 0.8968 - 255s/epoch - 302ms/step\n",
            "Epoch 2/10\n",
            "\n",
            "Epoch 2: val_loss improved from 0.28550 to 0.24655, saving model to model.weights.best.hdf5\n",
            "844/844 - 268s - loss: 0.2610 - accuracy: 0.9057 - val_loss: 0.2465 - val_accuracy: 0.9088 - 268s/epoch - 318ms/step\n",
            "Epoch 3/10\n",
            "\n",
            "Epoch 3: val_loss did not improve from 0.24655\n",
            "844/844 - 260s - loss: 0.2142 - accuracy: 0.9201 - val_loss: 0.2573 - val_accuracy: 0.9070 - 260s/epoch - 308ms/step\n",
            "Epoch 4/10\n",
            "\n",
            "Epoch 4: val_loss improved from 0.24655 to 0.23426, saving model to model.weights.best.hdf5\n",
            "844/844 - 259s - loss: 0.1787 - accuracy: 0.9319 - val_loss: 0.2343 - val_accuracy: 0.9160 - 259s/epoch - 307ms/step\n",
            "Epoch 5/10\n",
            "\n",
            "Epoch 5: val_loss did not improve from 0.23426\n",
            "844/844 - 255s - loss: 0.1528 - accuracy: 0.9429 - val_loss: 0.2362 - val_accuracy: 0.9165 - 255s/epoch - 302ms/step\n",
            "Epoch 6/10\n",
            "\n",
            "Epoch 6: val_loss did not improve from 0.23426\n",
            "844/844 - 256s - loss: 0.1236 - accuracy: 0.9530 - val_loss: 0.2577 - val_accuracy: 0.9167 - 256s/epoch - 304ms/step\n",
            "Epoch 7/10\n",
            "\n",
            "Epoch 7: val_loss did not improve from 0.23426\n",
            "844/844 - 279s - loss: 0.1032 - accuracy: 0.9618 - val_loss: 0.2470 - val_accuracy: 0.9197 - 279s/epoch - 330ms/step\n",
            "Epoch 8/10\n",
            "\n",
            "Epoch 8: val_loss did not improve from 0.23426\n",
            "844/844 - 280s - loss: 0.0906 - accuracy: 0.9669 - val_loss: 0.2675 - val_accuracy: 0.9173 - 280s/epoch - 332ms/step\n",
            "Epoch 9/10\n",
            "\n",
            "Epoch 9: val_loss did not improve from 0.23426\n",
            "844/844 - 281s - loss: 0.0764 - accuracy: 0.9711 - val_loss: 0.2697 - val_accuracy: 0.9222 - 281s/epoch - 333ms/step\n",
            "Epoch 10/10\n",
            "\n",
            "Epoch 10: val_loss did not improve from 0.23426\n",
            "844/844 - 276s - loss: 0.0642 - accuracy: 0.9766 - val_loss: 0.3251 - val_accuracy: 0.9095 - 276s/epoch - 327ms/step\n"
          ]
        }
      ],
      "source": [
        "x = model.fit(x_train, y_train, batch_size=64, epochs=10, verbose=2, validation_data=(x_valid, y_valid), callbacks=[checkpointer])\n",
        "\n"
      ]
    },
    {
      "cell_type": "code",
      "execution_count": 36,
      "id": "0de47c5c",
      "metadata": {
        "scrolled": true,
        "id": "0de47c5c",
        "outputId": "4679933d-9144-4dae-9dd4-e57db564b007",
        "colab": {
          "base_uri": "https://localhost:8080/"
        }
      },
      "outputs": [
        {
          "output_type": "stream",
          "name": "stdout",
          "text": [
            "\n",
            " Test accuracy: 0.906000018119812\n"
          ]
        }
      ],
      "source": [
        "# Evaluate the model on test set\n",
        "score = model.evaluate(x_test, y_test, verbose=0)\n",
        "# Print test accuracy\n",
        "print('\\n', 'Test accuracy:', score[1])\n"
      ]
    }
  ],
  "metadata": {
    "kernelspec": {
      "display_name": "Python 3 (ipykernel)",
      "language": "python",
      "name": "python3"
    },
    "language_info": {
      "codemirror_mode": {
        "name": "ipython",
        "version": 3
      },
      "file_extension": ".py",
      "mimetype": "text/x-python",
      "name": "python",
      "nbconvert_exporter": "python",
      "pygments_lexer": "ipython3",
      "version": "3.9.12"
    },
    "colab": {
      "provenance": []
    }
  },
  "nbformat": 4,
  "nbformat_minor": 5
}